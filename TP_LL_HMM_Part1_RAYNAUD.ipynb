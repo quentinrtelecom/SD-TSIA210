{
 "cells": [
  {
   "cell_type": "markdown",
   "metadata": {},
   "source": [
    "## Partie Chaine de Markov (Part 1)\n",
    "## fichier a completer par les etudiant.es\n",
    "## L. Likforman"
   ]
  },
  {
   "cell_type": "code",
   "execution_count": 32,
   "metadata": {},
   "outputs": [
    {
     "name": "stdout",
     "output_type": "stream",
     "text": [
      "28\n",
      "28\n",
      "28\n",
      "[[0.0000000e+00 1.1268720e-01 4.3608943e-02 4.5454545e-02 3.2904451e-02\n",
      "  2.2094495e-02 4.1763341e-02 1.5555790e-02 6.4437882e-02 6.8920059e-02\n",
      "  3.6384729e-03 4.2185193e-03 2.3465514e-02 3.9759544e-02 2.2832736e-02\n",
      "  7.0343809e-02 3.1058848e-02 1.4237503e-03 2.5680236e-02 6.6916262e-02\n",
      "  1.6452225e-01 1.0388104e-02 7.0660198e-03 7.0502004e-02 1.0546298e-04\n",
      "  1.0599030e-02 5.2731491e-05 0.0000000e+00]\n",
      " [0.0000000e+00 1.4701126e-05 2.2933757e-02 3.3959601e-02 3.8075917e-02\n",
      "  1.4701126e-04 6.1744730e-03 2.4697892e-02 8.8206757e-04 3.7046838e-02\n",
      "  8.8206757e-04 1.1907912e-02 8.1150216e-02 3.5870748e-02 2.2051689e-01\n",
      "  1.4701126e-04 1.8082385e-02 1.4701126e-05 9.4822263e-02 9.5410308e-02\n",
      "  1.3348623e-01 1.1760901e-02 3.3371556e-02 9.8497545e-03 5.8804504e-04\n",
      "  1.9846520e-02 8.8206757e-04 6.7478169e-02]\n",
      " [0.0000000e+00 7.1874260e-02 7.8982703e-04 7.8982703e-05 7.8982703e-04\n",
      "  2.8275808e-01 7.8982703e-05 7.8982703e-05 7.8982703e-05 7.0294605e-02\n",
      "  7.8982703e-03 7.8982703e-05 1.2084354e-01 2.3694811e-03 7.8982703e-05\n",
      "  1.2637232e-01 7.8982703e-05 7.8982703e-05 4.7389622e-02 1.5006714e-02\n",
      "  1.0267751e-02 1.2716215e-01 1.5796541e-03 7.8982703e-05 7.8982703e-05\n",
      "  1.0662665e-01 7.8982703e-05 7.1084433e-03]\n",
      " [0.0000000e+00 1.3674657e-01 4.0698384e-05 1.7500305e-02 1.2209515e-03\n",
      "  1.3674657e-01 4.0698384e-05 4.0698384e-05 1.6279354e-01 7.3257092e-02\n",
      "  4.0698384e-05 6.9594237e-02 3.7035530e-02 4.0698384e-05 4.0698384e-05\n",
      "  1.6686338e-01 4.0698384e-05 1.2209515e-03 5.2500916e-02 8.1396769e-04\n",
      "  8.7094542e-02 3.1337756e-02 4.0698384e-05 4.0698384e-05 4.0698384e-05\n",
      "  5.2907900e-03 4.0698384e-05 1.9535224e-02]\n",
      " [0.0000000e+00 3.6241263e-02 2.8762907e-05 2.8762907e-05 7.1907268e-03\n",
      "  1.3691144e-01 8.6288722e-04 3.7391780e-03 8.6288722e-04 9.0027900e-02\n",
      "  2.8762907e-04 2.8762907e-04 9.7793885e-03 5.1773233e-03 2.8762907e-03\n",
      "  3.4803118e-02 2.8762907e-05 2.8762907e-05 1.8983519e-02 2.0134035e-02\n",
      "  2.8762907e-05 2.0421664e-02 2.8762907e-03 8.6288722e-04 2.8762907e-05\n",
      "  8.6288722e-03 2.8762907e-05 5.9884373e-01]\n",
      " [0.0000000e+00 4.5607163e-02 3.1710502e-03 1.8653236e-02 7.8063794e-02\n",
      "  2.7979855e-02 9.6064167e-03 7.1814960e-03 1.6787913e-03 1.6041783e-02\n",
      "  2.7979855e-04 9.3266182e-04 3.0777840e-02 2.6207797e-02 8.6737549e-02\n",
      "  2.1451222e-03 1.0818877e-02 3.0777840e-03 1.2562955e-01 7.2094758e-02\n",
      "  2.3316545e-02 4.6633091e-04 1.6601380e-02 8.8602873e-03 8.3939564e-03\n",
      "  1.5109121e-02 9.3266182e-05 3.6047379e-01]\n",
      " [0.0000000e+00 6.6869301e-02 4.6761749e-05 4.6761749e-05 4.6761749e-05\n",
      "  7.4351181e-02 3.3668459e-02 4.6761749e-05 4.6761749e-05 7.7624503e-02\n",
      "  4.6761749e-05 4.6761749e-05 1.7301847e-02 4.6761749e-05 4.6761749e-05\n",
      "  1.5852233e-01 4.6761749e-05 4.6761749e-05 9.0250175e-02 1.8704700e-03\n",
      "  4.6294131e-02 3.2733224e-02 4.6761749e-05 4.6761749e-05 4.6761749e-05\n",
      "  3.2733224e-03 4.6761749e-05 3.9653963e-01]\n",
      " [0.0000000e+00 6.5942117e-02 6.1057516e-04 6.1057516e-05 2.4423006e-03\n",
      "  1.2822078e-01 6.1057516e-05 1.2211503e-02 1.3554769e-01 6.2889242e-02\n",
      "  6.1057516e-05 6.1057516e-05 2.8086457e-02 1.2211503e-03 2.3201856e-02\n",
      "  6.8384418e-02 6.1057516e-04 6.1057516e-05 9.7081451e-02 2.6254732e-02\n",
      "  6.1057516e-03 2.1370131e-02 6.1057516e-05 6.1057516e-04 6.1057516e-05\n",
      "  3.0528758e-03 6.1057516e-05 3.1566736e-01]\n",
      " [0.0000000e+00 1.4197531e-01 7.7160494e-04 1.9290123e-05 1.9290123e-05\n",
      "  4.6971451e-01 5.7870370e-04 1.9290123e-05 3.8580247e-04 1.4023920e-01\n",
      "  1.9290123e-05 1.9290123e-05 1.5432099e-03 2.8935185e-03 3.8580247e-03\n",
      "  7.5038580e-02 1.9290123e-05 1.9290123e-05 1.1188272e-02 1.7361111e-03\n",
      "  2.4498457e-02 1.9097222e-02 1.9290123e-05 1.1574074e-03 1.9290123e-05\n",
      "  2.1219136e-03 1.9290123e-05 1.0300926e-01]\n",
      " [0.0000000e+00 2.0688358e-02 1.0500909e-02 7.6954423e-02 3.8085386e-02\n",
      "  3.3696947e-02 2.3666228e-02 3.4010407e-02 1.5672999e-05 3.1345997e-04\n",
      "  1.5672999e-05 3.4480597e-03 5.4855495e-02 3.5734437e-02 2.4528243e-01\n",
      "  6.4572754e-02 6.1124694e-03 3.1345997e-04 4.1063256e-02 1.2757821e-01\n",
      "  1.1754749e-01 9.4037991e-04 3.2599837e-02 1.5672999e-05 1.0971099e-03\n",
      "  1.5672999e-05 6.2691994e-03 2.4606608e-02]\n",
      " [0.0000000e+00 4.7938639e-02 9.5877277e-04 9.5877277e-04 9.5877277e-04\n",
      "  1.6299137e-01 9.5877277e-04 9.5877277e-04 9.5877277e-04 9.5877277e-04\n",
      "  9.5877277e-04 9.5877277e-04 9.5877277e-04 9.5877277e-04 9.5877277e-04\n",
      "  4.6979866e-01 9.5877277e-04 9.5877277e-04 9.5877277e-04 9.5877277e-04\n",
      "  9.5877277e-04 2.9721956e-01 9.5877277e-04 9.5877277e-04 9.5877277e-04\n",
      "  9.5877277e-04 9.5877277e-04 9.5877277e-04]\n",
      " [0.0000000e+00 5.2677788e-03 1.7559263e-04 1.7559263e-04 1.7559263e-04\n",
      "  3.0728709e-01 3.5118525e-03 1.7559263e-04 1.7559263e-03 1.2115891e-01\n",
      "  1.7559263e-04 1.7559263e-04 1.7559263e-02 1.7559263e-04 1.0184372e-01\n",
      "  5.2677788e-03 1.7559263e-04 1.7559263e-04 1.7559263e-04 5.0921861e-02\n",
      "  1.7559263e-04 1.7559263e-03 1.7559263e-04 1.7559263e-04 1.7559263e-04\n",
      "  8.7796313e-03 1.7559263e-04 3.7225637e-01]\n",
      " [0.0000000e+00 7.2924514e-02 6.0268193e-04 3.0134097e-04 7.6540606e-02\n",
      "  1.7086033e-01 1.4765707e-02 9.0402290e-04 3.0134097e-05 1.3741148e-01\n",
      "  3.0134097e-05 3.3147506e-03 1.2897393e-01 5.4241374e-03 1.8080458e-03\n",
      "  6.4486967e-02 2.4107277e-03 3.0134097e-05 1.8080458e-03 2.0792527e-02\n",
      "  1.5971071e-02 2.0792527e-02 1.5368389e-02 2.1093868e-03 3.0134097e-05\n",
      "  8.8895585e-02 3.0134097e-05 1.5338255e-01]\n",
      " [0.0000000e+00 1.8229282e-01 1.5043582e-02 4.4245830e-05 4.4245830e-05\n",
      "  2.6768727e-01 2.2122915e-03 4.4245830e-05 4.4245830e-05 9.4686076e-02\n",
      "  4.4245830e-05 4.4245830e-05 1.3273749e-03 1.8583249e-02 1.3273749e-03\n",
      "  1.0486262e-01 5.2210079e-02 4.4245830e-05 1.1503916e-02 3.0087164e-02\n",
      "  8.8491660e-04 3.3626831e-02 4.4245830e-05 4.4245830e-05 4.4245830e-05\n",
      "  2.5220123e-02 4.4245830e-05 1.5795761e-01]\n",
      " [0.0000000e+00 2.5854592e-02 3.2727332e-04 3.6000065e-02 1.5807301e-01\n",
      "  8.6727430e-02 6.8727398e-03 1.0309110e-01 6.5454664e-04 3.3054606e-02\n",
      "  1.9636399e-03 9.4909263e-03 7.0363764e-03 8.1818331e-04 7.2000131e-03\n",
      "  5.2854642e-02 1.6363666e-04 3.2727332e-04 3.2727332e-04 4.9909182e-02\n",
      "  1.0047291e-01 5.2363732e-03 4.9090998e-03 1.6363666e-04 8.1818331e-04\n",
      "  1.3418206e-02 1.6363666e-05 2.9421872e-01]\n",
      " [0.0000000e+00 7.3598497e-03 1.0335108e-02 1.4406514e-02 1.6598810e-02\n",
      "  3.7582211e-03 1.2809270e-01 8.2994049e-03 3.7582211e-03 5.6373317e-03\n",
      "  1.5659255e-04 5.7939242e-03 3.4920138e-02 6.5455684e-02 1.6035077e-01\n",
      "  2.7247103e-02 1.5972440e-02 1.5659255e-04 1.1540871e-01 2.6150955e-02\n",
      "  4.6664579e-02 1.1556530e-01 1.9260883e-02 3.3823990e-02 2.0357031e-03\n",
      "  9.5521453e-03 1.5659255e-04 1.2308174e-01]\n",
      " [0.0000000e+00 1.2499137e-01 6.9056004e-04 6.9056004e-05 6.9056004e-05\n",
      "  1.9473793e-01 6.9056004e-05 6.9056004e-05 2.2788481e-02 4.1433603e-02\n",
      "  6.9056004e-05 6.9056004e-05 8.4248325e-02 2.7622402e-03 6.9056004e-05\n",
      "  1.1187073e-01 5.9388164e-02 6.9056004e-05 1.8921345e-01 2.0026241e-02\n",
      "  3.5909122e-02 4.3505283e-02 6.9056004e-05 6.9056004e-04 6.9056004e-05\n",
      "  2.7622402e-03 6.9056004e-05 6.4222084e-02]\n",
      " [0.0000000e+00 1.3966480e-03 1.3966480e-03 1.3966480e-03 1.3966480e-03\n",
      "  1.3966480e-03 1.3966480e-03 1.3966480e-03 1.3966480e-03 1.3966480e-03\n",
      "  1.3966480e-03 1.3966480e-03 1.3966480e-03 1.3966480e-03 1.3966480e-03\n",
      "  1.3966480e-03 1.3966480e-03 1.3966480e-03 1.3966480e-03 1.3966480e-03\n",
      "  1.3966480e-03 9.6368715e-01 1.3966480e-03 1.3966480e-03 1.3966480e-03\n",
      "  1.3966480e-03 1.3966480e-03 1.3966480e-03]\n",
      " [0.0000000e+00 8.0811621e-02 7.7890719e-04 1.4020329e-02 1.9862133e-02\n",
      "  2.4477159e-01 2.1419948e-03 1.0515247e-02 2.5314484e-03 9.5026678e-02\n",
      "  1.9472680e-05 1.3436149e-02 9.9310667e-03 1.5772871e-02 2.5119757e-02\n",
      "  9.2105776e-02 2.1419948e-03 1.9472680e-05 1.2657242e-02 4.9460607e-02\n",
      "  3.7387545e-02 1.4604510e-02 6.2312575e-03 2.1419948e-03 1.9472680e-05\n",
      "  3.7582272e-02 1.9472680e-05 2.1088912e-01]\n",
      " [0.0000000e+00 4.0555876e-02 3.1626142e-03 1.4324782e-02 5.5810838e-04\n",
      "  1.1459825e-01 2.7905419e-03 9.3018064e-04 3.6277045e-02 3.4416684e-02\n",
      "  1.8603613e-05 3.9067587e-03 8.9297342e-03 7.4414451e-03 2.7905419e-03\n",
      "  5.5438766e-02 2.2138299e-02 1.8603613e-04 5.5810838e-04 4.4462635e-02\n",
      "  1.3543430e-01 3.2742359e-02 1.1162168e-03 3.1626142e-03 1.8603613e-05\n",
      "  3.7207226e-03 1.8603613e-05 4.3030156e-01]\n",
      " [0.0000000e+00 3.5948616e-02 1.2569446e-05 3.7708339e-03 1.2569446e-04\n",
      "  8.4466678e-02 5.0277785e-04 1.2569446e-05 3.3937505e-01 8.9494457e-02\n",
      "  1.2569446e-05 1.2569446e-05 1.3072224e-02 1.0055557e-03 1.5083335e-03\n",
      "  8.8865985e-02 1.2569446e-04 1.2569446e-05 3.0418060e-02 2.0613892e-02\n",
      "  1.9482642e-02 1.8602780e-02 1.2569446e-05 9.0500013e-03 1.2569446e-05\n",
      "  2.0739586e-02 1.2569446e-05 2.2273059e-01]\n",
      " [0.0000000e+00 2.1856013e-02 2.1418892e-02 5.2891550e-02 1.9233291e-02\n",
      "  3.1909778e-02 9.1795253e-03 4.4586266e-02 4.3712025e-05 2.6227215e-02\n",
      "  4.3712025e-05 4.3712025e-04 9.4855095e-02 3.6280981e-02 1.1933383e-01\n",
      "  2.1856013e-03 4.9394588e-02 4.3712025e-05 1.5036937e-01 1.3201032e-01\n",
      "  1.4599816e-01 4.3712025e-05 4.3712025e-05 4.3712025e-05 2.6227215e-03\n",
      "  4.3712025e-04 4.3712025e-05 3.8466582e-02]\n",
      " [0.0000000e+00 7.7304262e-02 9.9108028e-05 9.9108028e-05 9.9108028e-05\n",
      "  6.1843409e-01 9.9108028e-05 9.9108028e-05 9.9108028e-05 2.4182359e-01\n",
      "  9.9108028e-05 9.9108028e-05 9.9108028e-05 9.9108028e-05 9.9108028e-05\n",
      "  5.4509415e-02 9.9108028e-05 9.9108028e-05 9.9108028e-04 9.9108028e-05\n",
      "  9.9108028e-05 3.9643211e-03 9.9108028e-05 9.9108028e-05 9.9108028e-05\n",
      "  9.9108028e-04 9.9108028e-05 9.9108028e-05]\n",
      " [0.0000000e+00 2.0323878e-01 5.4341919e-05 5.4341919e-05 2.1736768e-03\n",
      "  1.3802848e-01 2.1736768e-03 5.4341919e-05 1.8150201e-01 1.6791653e-01\n",
      "  5.4341919e-05 3.2605152e-03 4.3473535e-03 5.4341919e-05 2.6084121e-02\n",
      "  1.2879035e-01 5.4341919e-05 5.4341919e-05 1.4672318e-02 2.3910445e-02\n",
      "  5.4341919e-04 5.4341919e-05 5.4341919e-05 5.4341919e-05 5.4341919e-05\n",
      "  5.4341919e-04 5.4341919e-05 1.0216281e-01]\n",
      " [0.0000000e+00 1.0030864e-01 7.7160494e-04 1.2345679e-01 7.7160494e-04\n",
      "  8.4876543e-02 7.7160494e-04 7.7160494e-04 4.6296296e-02 1.0030864e-01\n",
      "  7.7160494e-04 7.7160494e-04 7.7160494e-04 7.7160494e-04 7.7160494e-04\n",
      "  7.7160494e-04 1.3117284e-01 7.7160494e-04 7.7160494e-04 7.7160494e-04\n",
      "  2.0061728e-01 3.0864198e-02 3.8580247e-02 7.7160494e-04 7.7160494e-03\n",
      "  7.7160494e-04 7.7160494e-04 1.2345679e-01]\n",
      " [0.0000000e+00 3.7845339e-03 6.3075565e-05 6.3075565e-05 6.3075565e-05\n",
      "  4.8568185e-02 6.3075565e-05 6.3075565e-05 6.3075565e-05 1.1984357e-02\n",
      "  6.3075565e-05 6.3075565e-05 8.8305790e-03 9.4613347e-03 1.8922669e-03\n",
      "  9.3351835e-02 1.8922669e-03 6.3075565e-05 1.2615113e-03 3.3430049e-02\n",
      "  5.6768008e-03 6.3075565e-05 6.3075565e-05 3.1537782e-03 6.3075565e-05\n",
      "  6.3075565e-05 6.3075565e-05 7.7582944e-01]\n",
      " [0.0000000e+00 3.0710173e-01 1.9193858e-03 1.9193858e-03 1.9193858e-03\n",
      "  5.5662188e-01 1.9193858e-03 1.9193858e-03 1.9193858e-03 3.8387716e-02\n",
      "  1.9193858e-03 1.9193858e-03 1.9193858e-02 1.9193858e-03 1.9193858e-03\n",
      "  1.9193858e-03 1.9193858e-03 1.9193858e-03 1.9193858e-03 1.9193858e-03\n",
      "  1.9193858e-03 1.9193858e-03 1.9193858e-02 1.9193858e-03 1.9193858e-03\n",
      "  1.9193858e-03 1.9193858e-02 1.9193858e-03]\n",
      " [0.0000000e+00 0.0000000e+00 0.0000000e+00 0.0000000e+00 0.0000000e+00\n",
      "  0.0000000e+00 0.0000000e+00 0.0000000e+00 0.0000000e+00 0.0000000e+00\n",
      "  0.0000000e+00 0.0000000e+00 0.0000000e+00 0.0000000e+00 0.0000000e+00\n",
      "  0.0000000e+00 0.0000000e+00 0.0000000e+00 0.0000000e+00 0.0000000e+00\n",
      "  0.0000000e+00 0.0000000e+00 0.0000000e+00 0.0000000e+00 0.0000000e+00\n",
      "  0.0000000e+00 0.0000000e+00 1.0000000e+00]]\n"
     ]
    }
   ],
   "source": [
    "import numpy as np \n",
    "%matplotlib inline\n",
    "import matplotlib.pyplot as plt\n",
    "\n",
    "filename_A='bigramenglish.txt'\n",
    "A=np.loadtxt(filename_A)\n",
    "print(len(A))\n",
    "filename_F='bigramfrancais.txt'\n",
    "F=np.loadtxt(filename_F)\n",
    "print(len(F))\n",
    "dic={'1' : ' ', '2' : 'a', '3' : 'b', '4': 'c', '5' : 'd', '6' : 'e', '7': 'f', '8' : 'g', '9' : 'h', '10': 'i', '11': 'j',\n",
    "'12' : 'k', '13' : 'l', '14': 'm', '15' : 'n', '16' : 'o', '17': 'p', '18' : 'q', '19' : 'r' , '20': 's', '21' : 't', '22'\n",
    ": 'u', '23': 'v', '24' : 'w', '25' : 'x' , '26': 'y', '27' : 'z', '28' : ' '}\n",
    "print(len(dic))\n",
    "print(A)"
   ]
  },
  {
   "cell_type": "markdown",
   "metadata": {},
   "source": [
    "## I.2.a \n",
    "bigramenglish.txt' contient la matrice des transitions pour l’anglais (bigrams) entre deux symboles (caractères ou espaces). Le terme générique (i,j) de la matrice de transition correspond à la probabilité de transiter vers l’état j à partir de l’état i.\n",
    "A quelles probabilités correspond la première ligne de la matrice de transition ? et celles de la dernière colonne ?\n",
    "Pour chaque lettre de l’alphabet, indiquer la transition la plus fréquente depuis cette lettre"
   ]
  },
  {
   "cell_type": "markdown",
   "metadata": {},
   "source": [
    "la première ligne de la matrice de transition correspond à la probabilité de la transition vers l'état 0 en partant de n'importe où\n"
   ]
  },
  {
   "cell_type": "code",
   "execution_count": 2,
   "metadata": {},
   "outputs": [
    {
     "name": "stdout",
     "output_type": "stream",
     "text": [
      "0.9999999997710001\n"
     ]
    }
   ],
   "source": [
    "\n",
    "s = 0\n",
    "for i in range(28):\n",
    "    s+= A[0][i]\n",
    "print(s)"
   ]
  },
  {
   "cell_type": "code",
   "execution_count": 3,
   "metadata": {},
   "outputs": [],
   "source": [
    "L_transi = np.zeros(28)\n",
    "for i in range(28):    \n",
    "    #max = A[i][0]\n",
    "    L_transi[i] = np.argmax(A[i,:])\n",
    "    '''for j in range(28):\n",
    "        if A[i][j]>= max:\n",
    "            max = A[i][j]\n",
    "            L_transi[i] = j # on rajoute +1 car le dico commence à 0'''\n"
   ]
  },
  {
   "cell_type": "code",
   "execution_count": 4,
   "metadata": {},
   "outputs": [
    {
     "name": "stdout",
     "output_type": "stream",
     "text": [
      "  : t\n",
      "a : n\n",
      "b : e\n",
      "c : o\n",
      "d :  \n",
      "e :  \n",
      "f :  \n",
      "g :  \n",
      "h : e\n",
      "i : n\n",
      "j : o\n",
      "k :  \n",
      "l : e\n",
      "m : e\n",
      "n :  \n",
      "o : n\n",
      "p : e\n",
      "q : u\n",
      "r : e\n",
      "s :  \n",
      "t : h\n",
      "u : r\n",
      "v : e\n",
      "w : a\n",
      "x : t\n",
      "y :  \n",
      "z : e\n",
      "  :  \n"
     ]
    }
   ],
   "source": [
    "for i in range(0, 28):\n",
    "    end = dic[f\"{int(L_transi[i]+1)}\"]\n",
    "    start = dic[f\"{int(i+1)}\"]\n",
    "    print(f\"{start} : {end}\")"
   ]
  },
  {
   "cell_type": "code",
   "execution_count": 5,
   "metadata": {},
   "outputs": [
    {
     "data": {
      "text/plain": [
       "'smdnzzzzdmnzddzmdtdzgqd szdz'"
      ]
     },
     "execution_count": 5,
     "metadata": {},
     "output_type": "execute_result"
    }
   ],
   "source": [
    "\"\".join([dic[f\"{int(etat)}\"] for etat in L_transi])"
   ]
  },
  {
   "cell_type": "markdown",
   "metadata": {},
   "source": [
    "## I.2.b\n",
    "a\n"
   ]
  },
  {
   "cell_type": "raw",
   "metadata": {},
   "source": [
    "\"\"\"\n",
    "La fonction etat_suivant génère un état (à t+1) à partir de l’état courant (à t) et à l’aide de la matrice de transitions et de la fonction de répartition.\n",
    "Afficher sur un graphique la fonction de répartition \n",
    "pour une ligne de la matrice de transition et expliquer son rôle pour la génération de l’état à t+1.\n",
    "\n",
    "\"\"\"\n",
    "\n"
   ]
  },
  {
   "cell_type": "code",
   "execution_count": 6,
   "metadata": {},
   "outputs": [
    {
     "data": {
      "image/png": "[encoded data removed]",
      "text/plain": [
       "<Figure size 432x288 with 1 Axes>"
      ]
     },
     "metadata": {
      "needs_background": "light"
     },
     "output_type": "display_data"
    }
   ],
   "source": [
    "plt.step(range(1, 29), np.cumsum(A[2,]))\n",
    "#plt.step()\n",
    "plt.title('Fonction de repartition de etat suivant a partir de etat precedent 3 (lettre b)')\n",
    "plt.xlabel('Etat suivant')\n",
    "plt.ylabel('Probabilite') \n",
    "plt.show()"
   ]
  },
  {
   "cell_type": "code",
   "execution_count": 7,
   "metadata": {},
   "outputs": [
    {
     "data": {
      "text/plain": [
       "'for i in range(40):\\n    print(etat_suivant(A[0:]))'"
      ]
     },
     "execution_count": 7,
     "metadata": {},
     "output_type": "execute_result"
    }
   ],
   "source": [
    "def etat_suivant(ligne_matrice_trans):\n",
    "    '''\n",
    "    La fonction génère un état (à t+1) à partir de l’état courant (à t) \n",
    "    La ligne de la matrice de transitions correspond aux probabilités \n",
    "    de transiter de l etat courant vers les autres etats.\n",
    "    '''\n",
    "    f_repartition = np.cumsum(ligne_matrice_trans)\n",
    "    unif = np.random.random()\n",
    "    stat = 0\n",
    "    while(unif >= f_repartition[stat]):\n",
    "        stat = stat+1\n",
    "    return stat+1\n",
    "'''for i in range(40):\n",
    "    print(etat_suivant(A[0:]))'''"
   ]
  },
  {
   "cell_type": "code",
   "execution_count": 8,
   "metadata": {},
   "outputs": [
    {
     "data": {
      "text/plain": [
       "'2'"
      ]
     },
     "execution_count": 8,
     "metadata": {},
     "output_type": "execute_result"
    }
   ],
   "source": [
    "str(2)"
   ]
  },
  {
   "cell_type": "raw",
   "metadata": {},
   "source": [
    "Ecrire la fonction genere_state_seq \n",
    "qui génère une séquence d’états jusqu’à aboutir à l’état final (28). \n",
    "Puis ecrire une fonction display_seq qui transforme une séquence d’états \n",
    "en séquence de caractères, à l’aide d’un dictionnaire. \n",
    "Utiliser ces fonctions pour générer des mots.\n"
   ]
  },
  {
   "cell_type": "code",
   "execution_count": 9,
   "metadata": {},
   "outputs": [
    {
     "data": {
      "text/plain": [
       "'def genere_state_seq(matrice_transitions, etat_initial):\\n    \"\"\"\\n    Cette fonction génère une séquence d\\'états à partir d\\'un état initial donné\\n    et d\\'une matrice de transitions donnée, en s\\'arrêtant lorsque l\\'état final (28)\\n    est atteint.\\n    \\n    :param matrice_transitions: la matrice de transitions entre les états\\n    :param etat_initial: l\\'état initial à partir duquel la séquence d\\'états est générée\\n    :return: une liste contenant la séquence d\\'états générée\\n    \"\"\"\\n    seq_etats = [etat_initial]\\n    etat_courant = etat_initial\\n    while etat_courant != 28:\\n        ligne_transitions = matrice_transitions[etat_courant-1]\\n        etat_courant = etat_suivant(ligne_transitions)\\n        seq_etats.append(etat_courant)\\n    seq_caracteres = [dic[str(etat)] for etat in seq_etats]\\n    return \\'\\'.join(seq_caracteres)\\n\\n\\nmatrice_transitions = np.loadtxt(\\'bigramenglish.txt\\')\\n\\n\\netat_initial = 1\\nmot = genere_state_seq(matrice_transitions, etat_initial)\\n\\n\\nprint(mot)'"
      ]
     },
     "execution_count": 9,
     "metadata": {},
     "output_type": "execute_result"
    }
   ],
   "source": [
    "'''def genere_state_seq(matrice_transitions, etat_initial):\n",
    "    \"\"\"\n",
    "    Cette fonction génère une séquence d'états à partir d'un état initial donné\n",
    "    et d'une matrice de transitions donnée, en s'arrêtant lorsque l'état final (28)\n",
    "    est atteint.\n",
    "    \n",
    "    :param matrice_transitions: la matrice de transitions entre les états\n",
    "    :param etat_initial: l'état initial à partir duquel la séquence d'états est générée\n",
    "    :return: une liste contenant la séquence d'états générée\n",
    "    \"\"\"\n",
    "    seq_etats = [etat_initial]\n",
    "    etat_courant = etat_initial\n",
    "    while etat_courant != 28:\n",
    "        ligne_transitions = matrice_transitions[etat_courant-1]\n",
    "        etat_courant = etat_suivant(ligne_transitions)\n",
    "        seq_etats.append(etat_courant)\n",
    "    seq_caracteres = [dic[str(etat)] for etat in seq_etats]\n",
    "    return ''.join(seq_caracteres)\n",
    "\n",
    "\n",
    "matrice_transitions = np.loadtxt('bigramenglish.txt')\n",
    "\n",
    "\n",
    "etat_initial = 1\n",
    "mot = genere_state_seq(matrice_transitions, etat_initial)\n",
    "\n",
    "\n",
    "print(mot)'''"
   ]
  },
  {
   "cell_type": "code",
   "execution_count": 10,
   "metadata": {},
   "outputs": [],
   "source": [
    "def  generate_state_seq(A):\n",
    "    \n",
    "    \"\"\"\n",
    "    Calculate a sequence of states\n",
    "\n",
    "    \"\"\"  \n",
    "    numStates = len(A)\n",
    "# Generate the emitting states sequence \n",
    "    t = 0  \n",
    "    stateSeq=[]\n",
    "    state = 1\n",
    "    \n",
    "    # tant qu'on n'a pas atteint l'état final (28)\n",
    "    while state != numStates:\n",
    "        # ajouter l'état courant à la séquence d'états\n",
    "        stateSeq.append(state)\n",
    "        # état suivant\n",
    "        state = etat_suivant(A[state-1])\n",
    "    \n",
    "    # ajouter l'état final à la séquence d'états\n",
    "    stateSeq.append(numStates)\n",
    "    \n",
    "    return stateSeq"
   ]
  },
  {
   "cell_type": "markdown",
   "metadata": {},
   "source": [
    "def display_seq(seq):\n",
    "    str_seq = \"\"\n",
    "    .....\n",
    "    return str_seq"
   ]
  },
  {
   "cell_type": "code",
   "execution_count": 11,
   "metadata": {},
   "outputs": [],
   "source": [
    "seq = generate_state_seq(A)\n"
   ]
  },
  {
   "cell_type": "code",
   "execution_count": 73,
   "metadata": {},
   "outputs": [],
   "source": [
    "def display_seq(seq_etats):\n",
    "    \"\"\"\n",
    "    Cette fonction transforme une séquence d'états en séquence de caractères\n",
    "    à l'aide d'un dictionnaire qui fait correspondre chaque état à un caractère.\n",
    "    \n",
    "    :param seq_etats: la séquence d'états à transformer\n",
    "    :param dictionnaire: le dictionnaire qui fait correspondre chaque état à un caractère\n",
    "    :return: une chaîne de caractères représentant la séquence de caractères correspondant à la séquence d'états\n",
    "    \"\"\"\n",
    "    #print(seq_etats)\n",
    "    #for etat in seq_etats:\n",
    "     #   print(str(etat))\n",
    "    seq_caracteres = [dic[str(etat)] for etat in seq_etats]\n",
    "    return ''.join(seq_caracteres)"
   ]
  },
  {
   "cell_type": "code",
   "execution_count": 74,
   "metadata": {},
   "outputs": [
    {
     "name": "stdout",
     "output_type": "stream",
     "text": [
      " iet \n"
     ]
    }
   ],
   "source": [
    "print(display_seq(seq))"
   ]
  },
  {
   "cell_type": "markdown",
   "metadata": {},
   "source": [
    "# I.2.c"
   ]
  },
  {
   "cell_type": "raw",
   "metadata": {},
   "source": [
    "On veut générer une suite de mots (phrase). Créer un état final de phrase (état 29, correspondant au caractère . ) dont la probabilité de transition vers cet état depuis un état final de mot est 0.1. Ecrire une fonction modifie_mat_dic qui modifie la matrice de transition et le dictionnaire en conséquence. Donner des exemples de phrases générées."
   ]
  },
  {
   "cell_type": "code",
   "execution_count": 89,
   "metadata": {},
   "outputs": [],
   "source": [
    "def modifie_mat_dic(A,dic):\n",
    "    dic['29'] = '.'\n",
    "    A_mod = np.zeros((29, 29))\n",
    "    \n",
    "    # Copie des probabilités de transition de la matrice A dans la nouvelle matrice A_mod\n",
    "    for i in range(28):\n",
    "        for j in range(28):\n",
    "            A_mod[i, j] = A[i, j]/(1/0.9)\n",
    "    \n",
    "    \n",
    "    A_mod[28, 28] = 1\n",
    "    A_mod[27,0] = 0.9\n",
    "    A_mod[27,27] = 0\n",
    "    # Probabilité de transition de chaque état final de mot vers l'état final de phrase\n",
    "    for i in range(28):\n",
    "        A_mod[i, 28] = 0.1\n",
    "    \n",
    "    return A_mod, dic"
   ]
  },
  {
   "cell_type": "code",
   "execution_count": 90,
   "metadata": {},
   "outputs": [
    {
     "name": "stdout",
     "output_type": "stream",
     "text": [
      "{'1': ' ', '2': 'a', '3': 'b', '4': 'c', '5': 'd', '6': 'e', '7': 'f', '8': 'g', '9': 'h', '10': 'i', '11': 'j', '12': 'k', '13': 'l', '14': 'm', '15': 'n', '16': 'o', '17': 'p', '18': 'q', '19': 'r', '20': 's', '21': 't', '22': 'u', '23': 'v', '24': 'w', '25': 'x', '26': 'y', '27': 'z', '28': ' ', '29': '.'}\n"
     ]
    }
   ],
   "source": [
    "Amod,dicmod=modifie_mat_dic(A,dic)\n",
    "#print(Amod)\n",
    "print(dicmod)\n"
   ]
  },
  {
   "cell_type": "code",
   "execution_count": 91,
   "metadata": {},
   "outputs": [
    {
     "name": "stdout",
     "output_type": "stream",
     "text": [
      "1.0000000016199992\n"
     ]
    }
   ],
   "source": [
    "s = 0\n",
    "for i in range(29):\n",
    "    s+= Amod[26][i]\n",
    "print(s)"
   ]
  },
  {
   "cell_type": "code",
   "execution_count": 92,
   "metadata": {},
   "outputs": [],
   "source": [
    "def genere_phrase(A, dic):\n",
    "    t = 0\n",
    "    numStates = len(dic)\n",
    "    stateSeq = []\n",
    "    stateSeq.append(1)  # on commence par état 1\n",
    "    \n",
    "    while stateSeq[-1] != 29:  # tant qu'on n'a pas atteint l'état final de phrase\n",
    "        etat_courant = stateSeq[-1]\n",
    "        ligne_transitions = A[etat_courant - 1, :]\n",
    "        etatSuivant = etat_suivant(ligne_transitions)\n",
    "        #print(etatSuivant)\n",
    "        stateSeq.append(etatSuivant)\n",
    "        \n",
    "        if etat_suivant == 28:  # si on arrive à l'état final de mot, ajouter un espace\n",
    "            stateSeq.append(27)\n",
    "    \n",
    "    phrase = display_seq(stateSeq)\n",
    "    return phrase"
   ]
  },
  {
   "cell_type": "code",
   "execution_count": 93,
   "metadata": {},
   "outputs": [
    {
     "name": "stdout",
     "output_type": "stream",
     "text": [
      "generation de phrases  :\n",
      " use  hen.\n",
      " p  tof  ai.\n",
      " wathanes  and  .\n",
      " pal.\n",
      " le  maticowo.\n"
     ]
    }
   ],
   "source": [
    "print('generation de phrases  :')\n",
    "for i in range (5) :\n",
    "    state_seq=genere_phrase(Amod,dicmod)\n",
    "    print(state_seq)\n",
    "\n",
    "    \n"
   ]
  },
  {
   "cell_type": "markdown",
   "metadata": {},
   "source": [
    "## I.3\n"
   ]
  },
  {
   "cell_type": "code",
   "execution_count": 94,
   "metadata": {},
   "outputs": [],
   "source": [
    "#transformer les espaces en +/- dans le dictionnaire et inversion\n",
    "dicmod['1']='-'\n",
    "dicmod['28']='+'\n",
    "dicmod['29']='.'"
   ]
  },
  {
   "cell_type": "raw",
   "metadata": {},
   "source": [
    "Charger la matrice des transitions entre caractères pour le français. Ecrire une fonction calc_vraisemblance qui calcule la vraisemblance du modèle français pour une phrase donnée en multipliant les probabilités de transition. Pour tenir compte de toutes les transitions (notamment celles entre espaces de fin et de début de mots et vers la fin de phrase) on pourra transformer une séquence « mot1 mot2.» par la séquence « -mot1+-mot2+.», les signes - , + et . représentant l’état initial de mot, l’état final de mot et l’état final de phrase, respectivement.\n"
   ]
  },
  {
   "cell_type": "markdown",
   "metadata": {},
   "source": [
    "def calc_vraisemblance(string, dic, mat):\n",
    "    dicInv = {v: k for k, v in dic.items()}\n",
    "    vraisemblance = 1.0\n",
    "    state = dicInv[string[0]]\n",
    "    for i in range(1, len(string)):\n",
    "        c = string[i]\n",
    "        if c != ' ':\n",
    "            if c == '.':\n",
    "                next_state = '29'\n",
    "            elif c == '-':\n",
    "                next_state = '1'\n",
    "            elif c == '+':\n",
    "                next_state = '28'\n",
    "            else:\n",
    "                next_state = dicInv[c]\n",
    "            vraisemblance *= mat[int(state)-1][int(next_state)-1]\n",
    "            state = next_state\n",
    "    return vraisemblance"
   ]
  },
  {
   "cell_type": "raw",
   "metadata": {},
   "source": [
    "Calculer la vraisemblance des modèles français et anglais pour la phrase « to be or not to be ». De même calculer la vraisemblance des modèles français et anglais pour la phrase « etre ou ne pas etre »."
   ]
  },
  {
   "cell_type": "code",
   "execution_count": 117,
   "metadata": {},
   "outputs": [
    {
     "name": "stdout",
     "output_type": "stream",
     "text": [
      "1.0959314401232204e-20\n",
      "1.3929121049138018e-20\n"
     ]
    }
   ],
   "source": [
    "sentence = \"-to+-be+-or+-not+-to+-be+.\"\n",
    "print(calc_vraisemblance(sentence,dicmod,Amod))\n",
    "\n",
    "sentence2 = \"-etre+-ou+-ne+-pas+-etre+.\"\n",
    "Fmod,dicmod=modifie_mat_dic(F,dic)\n",
    "#transformer les espaces en +/- dans le dictionnaire et inversion\n",
    "dicmod['1']='-'\n",
    "dicmod['28']='+'\n",
    "dicmod['29']='.'\n",
    "\n",
    "print(calc_vraisemblance(sentence2,dicmod,Fmod))"
   ]
  },
  {
   "cell_type": "markdown",
   "metadata": {},
   "source": [
    "Partie II"
   ]
  },
  {
   "cell_type": "markdown",
   "metadata": {},
   "source": [
    "II.1) Les zéros de la matrice B correspondent aux symboles qui n'apparaissent jamais dans un état donné, c'est-à-dire que la probabilité de voir un symbole qui correspond à un zéro dans cet état est nulle. Les zéros de la matrice A correspondent à des transitions interdites, c'est-à-dire qu'il n'est pas possible d'aller de l'état i à l'état j si a(i,j)=0. Le vecteur p représente les probabilités initiales, donc les zéros du vecteur p correspondent à un état initial impossible."
   ]
  },
  {
   "cell_type": "code",
   "execution_count": null,
   "metadata": {},
   "outputs": [],
   "source": [
    "def etat_suivant(qt, A):\n",
    "    \"\"\"Génère l'état suivant à partir de l'état courant et de la matrice de transitions A.\"\"\"\n",
    "    proba_transition = A[qt-1,:] # on récupère la ligne correspondante à l'état courant\n",
    "    cum_sum = np.cumsum(proba_transition) # calcul de la fonction de répartition\n",
    "    r = np.random.rand() # on tire un nombre aléatoire entre 0 et 1\n",
    "    qt_1 = np.sum(cum_sum < r) + 1 # on trouve l'état suivant en utilisant la fonction de répartition\n",
    "    return qt_1\n",
    "\n",
    "\n"
   ]
  },
  {
   "cell_type": "code",
   "execution_count": 120,
   "metadata": {},
   "outputs": [
    {
     "name": "stdout",
     "output_type": "stream",
     "text": [
      "(5, 5)\n",
      "(32, 5)\n",
      "(5,)\n"
     ]
    }
   ],
   "source": [
    "\n",
    "A0=np.loadtxt('A0.txt')\n",
    "B0=np.loadtxt('B0.txt')\n",
    "vec_pi0 =np.loadtxt('vect_pi0.txt')\n",
    "\n",
    "print(A0.shape)\n",
    "print(B0.shape)\n",
    "print(vec_pi0.shape)"
   ]
  },
  {
   "cell_type": "code",
   "execution_count": null,
   "metadata": {},
   "outputs": [],
   "source": []
  }
 ],
 "metadata": {
  "kernelspec": {
   "display_name": "Python 3 (ipykernel)",
   "language": "python",
   "name": "python3"
  },
  "language_info": {
   "codemirror_mode": {
    "name": "ipython",
    "version": 3
   },
   "file_extension": ".py",
   "mimetype": "text/x-python",
   "name": "python",
   "nbconvert_exporter": "python",
   "pygments_lexer": "ipython3",
   "version": "3.9.7"
  }
 },
 "nbformat": 4,
 "nbformat_minor": 4
}
